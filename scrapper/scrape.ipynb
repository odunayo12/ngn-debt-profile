{
 "metadata": {
  "language_info": {
   "codemirror_mode": {
    "name": "ipython",
    "version": 3
   },
   "file_extension": ".py",
   "mimetype": "text/x-python",
   "name": "python",
   "nbconvert_exporter": "python",
   "pygments_lexer": "ipython3",
   "version": "3.7.8-final"
  },
  "orig_nbformat": 2,
  "kernelspec": {
   "name": "python_defaultSpec_1599836599153",
   "display_name": "Python 3.7.8 64-bit ('myenv': conda)"
  }
 },
 "nbformat": 4,
 "nbformat_minor": 2,
 "cells": [
  {
   "cell_type": "code",
   "execution_count": 4,
   "metadata": {},
   "outputs": [],
   "source": [
    "#import bs4\n",
    "from urllib.request import urlopen as ureq\n",
    "from bs4 import BeautifulSoup as soup"
   ]
  },
  {
   "cell_type": "code",
   "execution_count": 6,
   "metadata": {},
   "outputs": [],
   "source": [
    "my_url = 'https://www.dmo.gov.ng/debt-profile/total-public-debts?limit=20&limitstart=0'"
   ]
  },
  {
   "cell_type": "code",
   "execution_count": 7,
   "metadata": {},
   "outputs": [
    {
     "output_type": "execute_result",
     "data": {
      "text/plain": "<http.client.HTTPResponse at 0x29863f7ef88>"
     },
     "metadata": {},
     "execution_count": 7
    }
   ],
   "source": [
    "ureq(my_url)"
   ]
  },
  {
   "cell_type": "code",
   "execution_count": 16,
   "metadata": {},
   "outputs": [],
   "source": [
    "uClient = ureq(my_url) #opens the address"
   ]
  },
  {
   "cell_type": "code",
   "execution_count": 17,
   "metadata": {},
   "outputs": [],
   "source": [
    "page_html = uClient.read() #stores the page's html cotent in a variable"
   ]
  },
  {
   "cell_type": "code",
   "execution_count": 18,
   "metadata": {},
   "outputs": [],
   "source": [
    "uClient.close() #closes the address"
   ]
  },
  {
   "cell_type": "code",
   "execution_count": 19,
   "metadata": {},
   "outputs": [],
   "source": [
    "page_soup = soup(page_html, 'html.parser') #html parser"
   ]
  },
  {
   "cell_type": "code",
   "execution_count": 24,
   "metadata": {},
   "outputs": [
    {
     "output_type": "execute_result",
     "data": {
      "text/plain": "<span>Debt Management Office Nigeria</span>"
     },
     "metadata": {},
     "execution_count": 24
    }
   ],
   "source": [
    "page_soup.body.span"
   ]
  },
  {
   "cell_type": "code",
   "execution_count": 26,
   "metadata": {},
   "outputs": [],
   "source": [
    "media = page_soup.findAll('div', {'class', 'koowa_media__item'}) #grabs each div with class koowa_media__item"
   ]
  },
  {
   "cell_type": "code",
   "execution_count": 27,
   "metadata": {},
   "outputs": [
    {
     "output_type": "execute_result",
     "data": {
      "text/plain": "20"
     },
     "metadata": {},
     "execution_count": 27
    }
   ],
   "source": [
    "len(media) #length of divs"
   ]
  },
  {
   "cell_type": "code",
   "execution_count": 28,
   "metadata": {},
   "outputs": [
    {
     "output_type": "execute_result",
     "data": {
      "text/plain": "<div class=\"koowa_media__item\" itemscope=\"\" itemtype=\"http://schema.org/ImageObject\">\n<div class=\"koowa_media__item__content document\">\n<script data-inline=\"\" type=\"text/javascript\">(function() {var el = document.documentElement; var cl = \"k-js-enabled\"; if (el.classList) { el.classList.add(cl); }else{ el.className += \" \" + cl;}})()</script>\n<meta content=\"\" itemprop=\"contentUrl\"/>\n<a class=\"docman_track_download\" data-id=\"3305\" data-title=\"Nigeria's Public Debt as at June 30, 2020\" href=\"/debt-profile/total-public-debts/3305-nigeria-public-debt-as-at-june-30-2020/file\" title=\"Nigeria's Public Debt as at June 30, 2020\">\n<div class=\"koowa_media__item__content-holder\">\n<div class=\"koowa_media__item__icon\">\n<span aria-hidden=\"true\" class=\"k-icon-document-pdf k-icon--size-xlarge k-icon-type-pdf\"></span>\n<span class=\"k-visually-hidden\">pdf</span>\n</div>\n<div class=\"koowa_header koowa_media__item__label\">\n<div class=\"koowa_header__item koowa_header__item--title_container\">\n<div class=\"koowa_wrapped_content\">\n<div class=\"whitespace_preserver\">\n<div class=\"overflow_container\">\n                                Nigeria's Public Debt as at June 30, 2020                            </div>\n</div>\n</div>\n</div>\n</div>\n</div>\n</a>\n</div>\n</div>"
     },
     "metadata": {},
     "execution_count": 28
    }
   ],
   "source": [
    "media[0]"
   ]
  }
 ]
}