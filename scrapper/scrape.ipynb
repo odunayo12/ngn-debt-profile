{
 "metadata": {
  "language_info": {
   "codemirror_mode": {
    "name": "ipython",
    "version": 3
   },
   "file_extension": ".py",
   "mimetype": "text/x-python",
   "name": "python",
   "nbconvert_exporter": "python",
   "pygments_lexer": "ipython3",
   "version": "3.7.8-final"
  },
  "orig_nbformat": 2,
  "kernelspec": {
   "name": "python_defaultSpec_1599936804745",
   "display_name": "Python 3.7.8 64-bit ('myenv': conda)"
  }
 },
 "nbformat": 4,
 "nbformat_minor": 2,
 "cells": [
  {
   "cell_type": "code",
   "execution_count": 1,
   "metadata": {},
   "outputs": [],
   "source": [
    "#import bs4\n",
    "from urllib.request import urlopen as ureq\n",
    "from bs4 import BeautifulSoup as soup"
   ]
  },
  {
   "cell_type": "code",
   "execution_count": 2,
   "metadata": {},
   "outputs": [],
   "source": [
    "my_url = 'https://www.dmo.gov.ng/debt-profile/total-public-debt?filter%5Bsearch%5D=&limit=100'"
   ]
  },
  {
   "cell_type": "code",
   "execution_count": 3,
   "metadata": {},
   "outputs": [
    {
     "output_type": "execute_result",
     "data": {
      "text/plain": "<http.client.HTTPResponse at 0x25ab61c9fc8>"
     },
     "metadata": {},
     "execution_count": 3
    }
   ],
   "source": [
    "ureq(my_url)"
   ]
  },
  {
   "cell_type": "code",
   "execution_count": 4,
   "metadata": {},
   "outputs": [],
   "source": [
    "uClient = ureq(my_url) #opens the address"
   ]
  },
  {
   "cell_type": "code",
   "execution_count": 5,
   "metadata": {},
   "outputs": [],
   "source": [
    "page_html = uClient.read() #stores the page's html cotent in a variable"
   ]
  },
  {
   "cell_type": "code",
   "execution_count": 6,
   "metadata": {},
   "outputs": [],
   "source": [
    "uClient.close() #closes the address"
   ]
  },
  {
   "cell_type": "code",
   "execution_count": 7,
   "metadata": {},
   "outputs": [],
   "source": [
    "page_soup = soup(page_html, 'html.parser') #html parser"
   ]
  },
  {
   "cell_type": "code",
   "execution_count": 8,
   "metadata": {},
   "outputs": [
    {
     "output_type": "execute_result",
     "data": {
      "text/plain": "<span>Debt Management Office Nigeria</span>"
     },
     "metadata": {},
     "execution_count": 8
    }
   ],
   "source": [
    "page_soup.body.span"
   ]
  },
  {
   "cell_type": "code",
   "execution_count": 9,
   "metadata": {},
   "outputs": [],
   "source": [
    "media_files = page_soup.findAll('span', {'class', 'whitespace_preserver'}) #grabs each div with class koowa_media__item"
   ]
  },
  {
   "cell_type": "code",
   "execution_count": 10,
   "metadata": {},
   "outputs": [
    {
     "output_type": "execute_result",
     "data": {
      "text/plain": "47"
     },
     "metadata": {},
     "execution_count": 10
    }
   ],
   "source": [
    "len(media_files) #length of divs\n",
    "# media_files"
   ]
  },
  {
   "cell_type": "code",
   "execution_count": 11,
   "metadata": {},
   "outputs": [
    {
     "output_type": "execute_result",
     "data": {
      "text/plain": "<span class=\"whitespace_preserver\">\n<a class=\"\" data-id=\"3305\" data-title=\"Nigeria's Public Debt as at June 30, 2020\" href=\"/debt-profile/total-public-debt/3305-nigeria-public-debt-as-at-june-30-2020\" title=\"Nigeria Public Debt as at June 30 2020.pdf\"><span itemprop=\"name\">Nigeria's Public Debt as at June 30, 2020</span><!--\n--><!--\n--></a>\n<meta content='”UserDownloads:357\"' itemprop=\"interactionCount\"/>\n<span class=\"detail-label\">(357 downloads)</span>\n<span class=\"label label-success\">New</span>\n</span>"
     },
     "metadata": {},
     "execution_count": 11
    }
   ],
   "source": [
    "media_files[1]"
   ]
  },
  {
   "cell_type": "code",
   "execution_count": 12,
   "metadata": {},
   "outputs": [],
   "source": [
    "media_download = media_files[1]"
   ]
  },
  {
   "cell_type": "code",
   "execution_count": 13,
   "metadata": {},
   "outputs": [],
   "source": [
    "media_downloads = media_files[1].a[\"href\"]"
   ]
  },
  {
   "cell_type": "code",
   "execution_count": 34,
   "metadata": {},
   "outputs": [
    {
     "output_type": "execute_result",
     "data": {
      "text/plain": "'Nigeria Public Debt as at June 30 2020.pdf'"
     },
     "metadata": {},
     "execution_count": 34
    }
   ],
   "source": [
    "# continue at https://youtu.be/XQgXKtPSzUI?t=1003\n",
    "media_download.a['href']\n",
    "media_download.a['data-id']\n",
    "media_download.a.get('title')"
   ]
  },
  {
   "cell_type": "code",
   "execution_count": 15,
   "metadata": {},
   "outputs": [
    {
     "output_type": "execute_result",
     "data": {
      "text/plain": "'/debt-profile/total-public-debt/3305-nigeria-public-debt-as-at-june-30-2020'"
     },
     "metadata": {},
     "execution_count": 15
    }
   ],
   "source": [
    "media_downloads"
   ]
  },
  {
   "cell_type": "code",
   "execution_count": 31,
   "metadata": {},
   "outputs": [],
   "source": [
    "file_addresses = []"
   ]
  },
  {
   "cell_type": "code",
   "execution_count": 39,
   "metadata": {
    "tags": []
   },
   "outputs": [
    {
     "output_type": "stream",
     "name": "stdout",
     "text": "\n"
    },
    {
     "output_type": "error",
     "ename": "TypeError",
     "evalue": "expected str, bytes or os.PathLike object, not NoneType",
     "traceback": [
      "\u001b[1;31m---------------------------------------------------------------------------\u001b[0m",
      "\u001b[1;31mTypeError\u001b[0m                                 Traceback (most recent call last)",
      "\u001b[1;32m<ipython-input-39-566b85b96abd>\u001b[0m in \u001b[0;36m<module>\u001b[1;34m\u001b[0m\n\u001b[0;32m     20\u001b[0m         \u001b[0mfilename\u001b[0m \u001b[1;33m=\u001b[0m \u001b[0mfile_title\u001b[0m\u001b[1;33m\u001b[0m\u001b[1;33m\u001b[0m\u001b[0m\n\u001b[0;32m     21\u001b[0m \u001b[1;33m\u001b[0m\u001b[0m\n\u001b[1;32m---> 22\u001b[1;33m     \u001b[0mpdf_file\u001b[0m \u001b[1;33m=\u001b[0m \u001b[0mopen\u001b[0m\u001b[1;33m(\u001b[0m\u001b[0mfilename\u001b[0m \u001b[1;33m,\u001b[0m \u001b[1;34m'wb'\u001b[0m\u001b[1;33m)\u001b[0m\u001b[1;33m\u001b[0m\u001b[1;33m\u001b[0m\u001b[0m\n\u001b[0m\u001b[0;32m     23\u001b[0m     \u001b[0mpdf_file\u001b[0m\u001b[1;33m.\u001b[0m\u001b[0mwrite\u001b[0m\u001b[1;33m(\u001b[0m\u001b[0mureq\u001b[0m\u001b[1;33m(\u001b[0m\u001b[0mpdf\u001b[0m\u001b[1;33m)\u001b[0m\u001b[1;33m.\u001b[0m\u001b[0mread\u001b[0m\u001b[1;33m(\u001b[0m\u001b[1;33m)\u001b[0m\u001b[1;33m)\u001b[0m\u001b[1;33m\u001b[0m\u001b[1;33m\u001b[0m\u001b[0m\n\u001b[0;32m     24\u001b[0m     \u001b[0mpdf_file\u001b[0m\u001b[1;33m.\u001b[0m\u001b[0mclose\u001b[0m\u001b[1;33m(\u001b[0m\u001b[1;33m)\u001b[0m\u001b[1;33m\u001b[0m\u001b[1;33m\u001b[0m\u001b[0m\n",
      "\u001b[1;31mTypeError\u001b[0m: expected str, bytes or os.PathLike object, not NoneType"
     ]
    }
   ],
   "source": [
    "i = 1\n",
    "for item in media_files:\n",
    "    try:\n",
    "        download_address = 'https://www.dmo.gov.ng' + item.a['href'] #note that item is now the new name and has to replace media_files\n",
    "        #download_address_id = item.a['data-id']\n",
    "    except TypeError:\n",
    "        print(\"\")\n",
    "    else:\n",
    "        #print('(' + \"'\" + download_address_id  + \"',\" + \" '\" + download_address + \"')\" )\n",
    "        #to_append ='(' + \"'\" + download_address_id  + \"',\" + \" '\" + download_address + \"')\"\n",
    "        file_addresses.append(download_address)\n",
    "        pdf = download_address\n",
    "        \n",
    "\n",
    "    file_title = item.get(\"title\")\n",
    "    if file_title == \"\":\n",
    "        filename = str(i)\n",
    "        i = i +1\n",
    "    else:\n",
    "        filename = file_title\n",
    "\n",
    "    pdf_file = open(filename , \".pdf\", 'wb')\n",
    "    pdf_file.write(ureq(pdf).read())\n",
    "    pdf_file.close()"
   ]
  },
  {
   "cell_type": "code",
   "execution_count": 27,
   "metadata": {
    "tags": []
   },
   "outputs": [
    {
     "output_type": "stream",
     "name": "stdout",
     "text": "['https://www.dmo.gov.ng/debt-profile/total-public-debt/3305-nigeria-public-debt-as-at-june-30-2020', 'https://www.dmo.gov.ng/debt-profile/total-public-debt/3235-nigeria-s-public-debt-stock-as-at-march-31-2020', 'https://www.dmo.gov.ng/debt-profile/total-public-debt/3123-nigeria-s-total-public-debt-stock-as-at-december-31-2019', 'https://www.dmo.gov.ng/debt-profile/total-public-debt/3043-nigeria-s-total-public-debt-stock-as-at-september-30-2019', 'https://www.dmo.gov.ng/debt-profile/total-public-debt/2950-nigeria-s-public-debt-as-at-june-30-2019', 'https://www.dmo.gov.ng/debt-profile/total-public-debt/2849-nigeria-s-total-public-debt-portfolio-as-at-march-31-2019', 'https://www.dmo.gov.ng/debt-profile/total-public-debt/2765-nigeria-s-total-public-debt-stock-as-at-december-2018', 'https://www.dmo.gov.ng/debt-profile/total-public-debt/2663-nigeria-s-public-debt-stock-as-at-september-30-2018', 'https://www.dmo.gov.ng/debt-profile/total-public-debt/2529-nigeria-s-public-debt-stock-as-at-june-30-2018', 'https://www.dmo.gov.ng/debt-profile/total-public-debt/2470-nigeria-s-public-debt-stock-as-at-march-31-2018', 'https://www.dmo.gov.ng/debt-profile/total-public-debt/2380-total-public-debt-as-at-31st-december-2017', 'https://www.dmo.gov.ng/debt-profile/total-public-debt/2255-total-public-debt-as-at-30th-september-2017', 'https://www.dmo.gov.ng/debt-profile/total-public-debt/2170-total-public-debt-as-at-30th-june-2017', 'https://www.dmo.gov.ng/debt-profile/total-public-debt/2075-total-public-debt-stock-as-at-31st-march-2017', 'https://www.dmo.gov.ng/debt-profile/total-public-debt/1973-total-public-debt-as-at-30th-september-2016', 'https://www.dmo.gov.ng/debt-profile/total-public-debt/1974-total-public-debt-as-at-31st-december-2016', 'https://www.dmo.gov.ng/debt-profile/total-public-debt/1538-total-public-debt-as-at-30th-june-2016', 'https://www.dmo.gov.ng/debt-profile/total-public-debt/1539-total-public-debt-as-at-31st-march-2016', 'https://www.dmo.gov.ng/debt-profile/total-public-debt/60-total-public-debt-stock-as-at-31st-december-2015', 'https://www.dmo.gov.ng/debt-profile/total-public-debt/56-total-public-debt-stock-as-at-30th-september-2015', 'https://www.dmo.gov.ng/debt-profile/total-public-debt/54-total-public-debt-stock-as-at-30th-june-2015', 'https://www.dmo.gov.ng/debt-profile/total-public-debt/62-total-public-debt-stock-as-at-31st-march-2015', 'https://www.dmo.gov.ng/debt-profile/total-public-debt/58-total-public-debt-stock-as-at-31st-december-2014', 'https://www.dmo.gov.ng/debt-profile/total-public-debt/59-total-public-debt-stock-as-at-31st-december-2014-1', 'https://www.dmo.gov.ng/debt-profile/total-public-debt/55-total-public-debt-stock-as-at-30th-september-2014', 'https://www.dmo.gov.ng/debt-profile/total-public-debt/50-public-debt-stock-30-06-2014', 'https://www.dmo.gov.ng/debt-profile/total-public-debt/52-public-debt-stock-as-at-31st-march-2014', 'https://www.dmo.gov.ng/debt-profile/total-public-debt/61-total-public-debt-stock-as-at-31st-december-2013', 'https://www.dmo.gov.ng/debt-profile/total-public-debt/51-public-debt-stock-as-at-30th-september-2013', 'https://www.dmo.gov.ng/debt-profile/total-public-debt/49-public-debt-stock-as-at-30th-june-2013', 'https://www.dmo.gov.ng/debt-profile/total-public-debt/57-total-public-debt-stock-as-at-31-march-2013', 'https://www.dmo.gov.ng/debt-profile/total-public-debt/53-public-debt-stock-31-12-2012', 'https://www.dmo.gov.ng/news-and-events/circulars-releases/3310-press-release-on-the-release-of-june-30-2020-public-debt-data/file', 'https://www.dmo.gov.ng/news-and-events/circulars-releases', 'https://www.dmo.gov.ng/debt-profile/external-debts/debt-service/3309-nigeria-s-actual-external-debt-service-payments-in-second-quarter-2020/file', 'https://www.dmo.gov.ng/debt-profile/external-debts/debt-service', 'https://www.dmo.gov.ng/debt-profile/external-debts/external-debt-stock/3308-nigeria-s-external-debt-stock-as-at-june-30-2020/file', 'https://www.dmo.gov.ng/debt-profile/external-debts/external-debt-stock', 'https://www.dmo.gov.ng/debt-profile/domestic-debts/debt-stock/3307-federal-government-domestic-debt-stock-by-instrument-as-at-june-30-2020/file', 'https://www.dmo.gov.ng/debt-profile/domestic-debts/debt-stock', 'https://www.dmo.gov.ng/debt-profile/domestic-debts/domestic-debt-service/3306-federal-government-actual-domestic-debt-service-for-april-june-2020/file', 'https://www.dmo.gov.ng/debt-profile/domestic-debts/domestic-debt-service', 'https://www.dmo.gov.ng/debt-profile/total-public-debts/3305-nigeria-public-debt-as-at-june-30-2020/file', 'https://www.dmo.gov.ng/debt-profile/total-public-debts', 'https://www.dmo.gov.ng/debt-profile/sub-nationals-debts/3304-states-and-fct-s-domestic-debt-stock-as-at-june-30-2020/file', 'https://www.dmo.gov.ng/debt-profile/sub-nationals-debts']\n"
    }
   ],
   "source": [
    "print(file_addresses)"
   ]
  },
  {
   "cell_type": "code",
   "execution_count": 19,
   "metadata": {},
   "outputs": [],
   "source": [
    "import os\n",
    "import requests\n",
    "from time import time\n",
    "from multiprocessing.pool import ThreadPool"
   ]
  },
  {
   "cell_type": "code",
   "execution_count": 20,
   "metadata": {
    "tags": []
   },
   "outputs": [
    {
     "output_type": "stream",
     "name": "stdout",
     "text": "c:\\Users\\rotim\\OneDrive - bwedu\\Web Developmnet\\ngn-debt-profile\\scrapper\n"
    }
   ],
   "source": [
    "# https://stackoverflow.com/questions/918154/relative-paths-in-python\n",
    "fileDir = os.path.dirname(os.path.realpath('__file__'))\n",
    "print(fileDir)\n",
    "\n"
   ]
  },
  {
   "cell_type": "code",
   "execution_count": 21,
   "metadata": {},
   "outputs": [],
   "source": [
    "#https://likegeeks.com/downloading-files-using-python/\n",
    "def url_response(url):\n",
    "    fileName, url= url\n",
    "    r = requests.get(url, stream = True)\n",
    "    with open( fileName, 'wb') as f:\n",
    "        for ch in r:\n",
    "            f.write(ch)"
   ]
  },
  {
   "cell_type": "code",
   "execution_count": 73,
   "metadata": {
    "tags": []
   },
   "outputs": [
    {
     "output_type": "stream",
     "name": "stdout",
     "text": "c:\\Users\\rotim\\OneDrive - bwedu\\Web Developmnet\\ngn-debt-profile\\scrapper\n"
    }
   ],
   "source": []
  },
  {
   "cell_type": "code",
   "execution_count": null,
   "metadata": {},
   "outputs": [],
   "source": []
  }
 ]
}