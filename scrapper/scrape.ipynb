{
 "metadata": {
  "language_info": {
   "codemirror_mode": {
    "name": "ipython",
    "version": 3
   },
   "file_extension": ".py",
   "mimetype": "text/x-python",
   "name": "python",
   "nbconvert_exporter": "python",
   "pygments_lexer": "ipython3",
   "version": "3.7.8-final"
  },
  "orig_nbformat": 2,
  "kernelspec": {
   "name": "python_defaultSpec_1599936804745",
   "display_name": "Python 3.7.8 64-bit ('myenv': conda)"
  }
 },
 "nbformat": 4,
 "nbformat_minor": 2,
 "cells": [
  {
   "cell_type": "code",
   "execution_count": 1,
   "metadata": {},
   "outputs": [],
   "source": [
    "#import bs4\n",
    "from urllib.request import urlopen as ureq\n",
    "from bs4 import BeautifulSoup as soup"
   ]
  },
  {
   "cell_type": "code",
   "execution_count": 2,
   "metadata": {},
   "outputs": [],
   "source": [
    "my_url = 'https://www.dmo.gov.ng/debt-profile/total-public-debt?filter%5Bsearch%5D=&limit=100'"
   ]
  },
  {
   "cell_type": "code",
   "execution_count": 3,
   "metadata": {},
   "outputs": [
    {
     "output_type": "execute_result",
     "data": {
      "text/plain": "<http.client.HTTPResponse at 0x25ab61c9fc8>"
     },
     "metadata": {},
     "execution_count": 3
    }
   ],
   "source": [
    "ureq(my_url)"
   ]
  },
  {
   "cell_type": "code",
   "execution_count": 4,
   "metadata": {},
   "outputs": [],
   "source": [
    "uClient = ureq(my_url) #opens the address"
   ]
  },
  {
   "cell_type": "code",
   "execution_count": 5,
   "metadata": {},
   "outputs": [],
   "source": [
    "page_html = uClient.read() #stores the page's html cotent in a variable"
   ]
  },
  {
   "cell_type": "code",
   "execution_count": 6,
   "metadata": {},
   "outputs": [],
   "source": [
    "uClient.close() #closes the address"
   ]
  },
  {
   "cell_type": "code",
   "execution_count": 7,
   "metadata": {},
   "outputs": [],
   "source": [
    "page_soup = soup(page_html, 'html.parser') #html parser"
   ]
  },
  {
   "cell_type": "code",
   "execution_count": 8,
   "metadata": {},
   "outputs": [
    {
     "output_type": "execute_result",
     "data": {
      "text/plain": "<span>Debt Management Office Nigeria</span>"
     },
     "metadata": {},
     "execution_count": 8
    }
   ],
   "source": [
    "page_soup.body.span"
   ]
  },
  {
   "cell_type": "code",
   "execution_count": 9,
   "metadata": {},
   "outputs": [],
   "source": [
    "media_files = page_soup.findAll('span', {'class', 'whitespace_preserver'}) #grabs each div with class koowa_media__item"
   ]
  },
  {
   "cell_type": "code",
   "execution_count": 10,
   "metadata": {},
   "outputs": [
    {
     "output_type": "execute_result",
     "data": {
      "text/plain": "47"
     },
     "metadata": {},
     "execution_count": 10
    }
   ],
   "source": [
    "len(media_files) #length of divs\n",
    "# media_files"
   ]
  },
  {
   "cell_type": "code",
   "execution_count": 11,
   "metadata": {},
   "outputs": [
    {
     "output_type": "execute_result",
     "data": {
      "text/plain": "<span class=\"whitespace_preserver\">\n<a class=\"\" data-id=\"3305\" data-title=\"Nigeria's Public Debt as at June 30, 2020\" href=\"/debt-profile/total-public-debt/3305-nigeria-public-debt-as-at-june-30-2020\" title=\"Nigeria Public Debt as at June 30 2020.pdf\"><span itemprop=\"name\">Nigeria's Public Debt as at June 30, 2020</span><!--\n--><!--\n--></a>\n<meta content='”UserDownloads:357\"' itemprop=\"interactionCount\"/>\n<span class=\"detail-label\">(357 downloads)</span>\n<span class=\"label label-success\">New</span>\n</span>"
     },
     "metadata": {},
     "execution_count": 11
    }
   ],
   "source": [
    "media_files[1]"
   ]
  },
  {
   "cell_type": "code",
   "execution_count": 12,
   "metadata": {},
   "outputs": [],
   "source": [
    "media_download = media_files[1]"
   ]
  },
  {
   "cell_type": "code",
   "execution_count": 13,
   "metadata": {},
   "outputs": [],
   "source": [
    "media_downloads = media_files[1].a[\"href\"]"
   ]
  },
  {
   "cell_type": "code",
   "execution_count": 14,
   "metadata": {},
   "outputs": [
    {
     "output_type": "execute_result",
     "data": {
      "text/plain": "'3305'"
     },
     "metadata": {},
     "execution_count": 14
    }
   ],
   "source": [
    "# continue at https://youtu.be/XQgXKtPSzUI?t=1003\n",
    "media_download.a['href']\n",
    "media_download.a['data-id']"
   ]
  },
  {
   "cell_type": "code",
   "execution_count": 15,
   "metadata": {},
   "outputs": [
    {
     "output_type": "execute_result",
     "data": {
      "text/plain": "'/debt-profile/total-public-debt/3305-nigeria-public-debt-as-at-june-30-2020'"
     },
     "metadata": {},
     "execution_count": 15
    }
   ],
   "source": [
    "media_downloads"
   ]
  },
  {
   "cell_type": "code",
   "execution_count": 16,
   "metadata": {},
   "outputs": [],
   "source": [
    "file_addresses = []"
   ]
  },
  {
   "cell_type": "code",
   "execution_count": 17,
   "metadata": {
    "tags": []
   },
   "outputs": [
    {
     "output_type": "stream",
     "name": "stdout",
     "text": "\n"
    },
    {
     "output_type": "error",
     "ename": "KeyError",
     "evalue": "'data-id'",
     "traceback": [
      "\u001b[1;31m---------------------------------------------------------------------------\u001b[0m",
      "\u001b[1;31mKeyError\u001b[0m                                  Traceback (most recent call last)",
      "\u001b[1;32m<ipython-input-17-9938a3b3d8e0>\u001b[0m in \u001b[0;36m<module>\u001b[1;34m\u001b[0m\n\u001b[0;32m      2\u001b[0m     \u001b[1;32mtry\u001b[0m\u001b[1;33m:\u001b[0m\u001b[1;33m\u001b[0m\u001b[1;33m\u001b[0m\u001b[0m\n\u001b[0;32m      3\u001b[0m         \u001b[0mdownload_address\u001b[0m \u001b[1;33m=\u001b[0m \u001b[1;34m'https://www.dmo.gov.ng'\u001b[0m \u001b[1;33m+\u001b[0m \u001b[0mitem\u001b[0m\u001b[1;33m.\u001b[0m\u001b[0ma\u001b[0m\u001b[1;33m[\u001b[0m\u001b[1;34m'href'\u001b[0m\u001b[1;33m]\u001b[0m \u001b[1;31m#note that item is now the new name and has to replace media_files\u001b[0m\u001b[1;33m\u001b[0m\u001b[1;33m\u001b[0m\u001b[0m\n\u001b[1;32m----> 4\u001b[1;33m         \u001b[0mdownload_address_id\u001b[0m \u001b[1;33m=\u001b[0m \u001b[0mitem\u001b[0m\u001b[1;33m.\u001b[0m\u001b[0ma\u001b[0m\u001b[1;33m[\u001b[0m\u001b[1;34m'data-id'\u001b[0m\u001b[1;33m]\u001b[0m\u001b[1;33m\u001b[0m\u001b[1;33m\u001b[0m\u001b[0m\n\u001b[0m\u001b[0;32m      5\u001b[0m     \u001b[1;32mexcept\u001b[0m \u001b[0mTypeError\u001b[0m\u001b[1;33m:\u001b[0m\u001b[1;33m\u001b[0m\u001b[1;33m\u001b[0m\u001b[0m\n\u001b[0;32m      6\u001b[0m         \u001b[0mprint\u001b[0m\u001b[1;33m(\u001b[0m\u001b[1;34m\"\"\u001b[0m\u001b[1;33m)\u001b[0m\u001b[1;33m\u001b[0m\u001b[1;33m\u001b[0m\u001b[0m\n",
      "\u001b[1;32m~\\anaconda3\\envs\\myenv\\lib\\site-packages\\bs4\\element.py\u001b[0m in \u001b[0;36m__getitem__\u001b[1;34m(self, key)\u001b[0m\n\u001b[0;32m   1399\u001b[0m         \"\"\"tag[key] returns the value of the 'key' attribute for the Tag,\n\u001b[0;32m   1400\u001b[0m         and throws an exception if it's not there.\"\"\"\n\u001b[1;32m-> 1401\u001b[1;33m         \u001b[1;32mreturn\u001b[0m \u001b[0mself\u001b[0m\u001b[1;33m.\u001b[0m\u001b[0mattrs\u001b[0m\u001b[1;33m[\u001b[0m\u001b[0mkey\u001b[0m\u001b[1;33m]\u001b[0m\u001b[1;33m\u001b[0m\u001b[1;33m\u001b[0m\u001b[0m\n\u001b[0m\u001b[0;32m   1402\u001b[0m \u001b[1;33m\u001b[0m\u001b[0m\n\u001b[0;32m   1403\u001b[0m     \u001b[1;32mdef\u001b[0m \u001b[0m__iter__\u001b[0m\u001b[1;33m(\u001b[0m\u001b[0mself\u001b[0m\u001b[1;33m)\u001b[0m\u001b[1;33m:\u001b[0m\u001b[1;33m\u001b[0m\u001b[1;33m\u001b[0m\u001b[0m\n",
      "\u001b[1;31mKeyError\u001b[0m: 'data-id'"
     ]
    }
   ],
   "source": [
    "for item in media_files:\n",
    "    try:\n",
    "        download_address = 'https://www.dmo.gov.ng' + item.a['href'] #note that item is now the new name and has to replace media_files\n",
    "        #download_address_id = item.a['data-id']\n",
    "    except TypeError:\n",
    "        print(\"\")\n",
    "    else:\n",
    "        #print('(' + \"'\" + download_address_id  + \"',\" + \" '\" + download_address + \"')\" )\n",
    "        #to_append ='(' + \"'\" + download_address_id  + \"',\" + \" '\" + download_address + \"')\"\n",
    "        file_addresses.append(download_address)"
   ]
  },
  {
   "cell_type": "code",
   "execution_count": 18,
   "metadata": {
    "tags": []
   },
   "outputs": [
    {
     "output_type": "stream",
     "name": "stdout",
     "text": "[\"('3305', 'https://www.dmo.gov.ng/debt-profile/total-public-debt/3305-nigeria-public-debt-as-at-june-30-2020')\", \"('3235', 'https://www.dmo.gov.ng/debt-profile/total-public-debt/3235-nigeria-s-public-debt-stock-as-at-march-31-2020')\", \"('3123', 'https://www.dmo.gov.ng/debt-profile/total-public-debt/3123-nigeria-s-total-public-debt-stock-as-at-december-31-2019')\", \"('3043', 'https://www.dmo.gov.ng/debt-profile/total-public-debt/3043-nigeria-s-total-public-debt-stock-as-at-september-30-2019')\", \"('2950', 'https://www.dmo.gov.ng/debt-profile/total-public-debt/2950-nigeria-s-public-debt-as-at-june-30-2019')\", \"('2849', 'https://www.dmo.gov.ng/debt-profile/total-public-debt/2849-nigeria-s-total-public-debt-portfolio-as-at-march-31-2019')\", \"('2765', 'https://www.dmo.gov.ng/debt-profile/total-public-debt/2765-nigeria-s-total-public-debt-stock-as-at-december-2018')\", \"('2663', 'https://www.dmo.gov.ng/debt-profile/total-public-debt/2663-nigeria-s-public-debt-stock-as-at-september-30-2018')\", \"('2529', 'https://www.dmo.gov.ng/debt-profile/total-public-debt/2529-nigeria-s-public-debt-stock-as-at-june-30-2018')\", \"('2470', 'https://www.dmo.gov.ng/debt-profile/total-public-debt/2470-nigeria-s-public-debt-stock-as-at-march-31-2018')\", \"('2380', 'https://www.dmo.gov.ng/debt-profile/total-public-debt/2380-total-public-debt-as-at-31st-december-2017')\", \"('2255', 'https://www.dmo.gov.ng/debt-profile/total-public-debt/2255-total-public-debt-as-at-30th-september-2017')\", \"('2170', 'https://www.dmo.gov.ng/debt-profile/total-public-debt/2170-total-public-debt-as-at-30th-june-2017')\", \"('2075', 'https://www.dmo.gov.ng/debt-profile/total-public-debt/2075-total-public-debt-stock-as-at-31st-march-2017')\", \"('1973', 'https://www.dmo.gov.ng/debt-profile/total-public-debt/1973-total-public-debt-as-at-30th-september-2016')\", \"('1974', 'https://www.dmo.gov.ng/debt-profile/total-public-debt/1974-total-public-debt-as-at-31st-december-2016')\", \"('1538', 'https://www.dmo.gov.ng/debt-profile/total-public-debt/1538-total-public-debt-as-at-30th-june-2016')\", \"('1539', 'https://www.dmo.gov.ng/debt-profile/total-public-debt/1539-total-public-debt-as-at-31st-march-2016')\", \"('60', 'https://www.dmo.gov.ng/debt-profile/total-public-debt/60-total-public-debt-stock-as-at-31st-december-2015')\", \"('56', 'https://www.dmo.gov.ng/debt-profile/total-public-debt/56-total-public-debt-stock-as-at-30th-september-2015')\", \"('54', 'https://www.dmo.gov.ng/debt-profile/total-public-debt/54-total-public-debt-stock-as-at-30th-june-2015')\", \"('62', 'https://www.dmo.gov.ng/debt-profile/total-public-debt/62-total-public-debt-stock-as-at-31st-march-2015')\", \"('58', 'https://www.dmo.gov.ng/debt-profile/total-public-debt/58-total-public-debt-stock-as-at-31st-december-2014')\", \"('59', 'https://www.dmo.gov.ng/debt-profile/total-public-debt/59-total-public-debt-stock-as-at-31st-december-2014-1')\", \"('55', 'https://www.dmo.gov.ng/debt-profile/total-public-debt/55-total-public-debt-stock-as-at-30th-september-2014')\", \"('50', 'https://www.dmo.gov.ng/debt-profile/total-public-debt/50-public-debt-stock-30-06-2014')\", \"('52', 'https://www.dmo.gov.ng/debt-profile/total-public-debt/52-public-debt-stock-as-at-31st-march-2014')\", \"('61', 'https://www.dmo.gov.ng/debt-profile/total-public-debt/61-total-public-debt-stock-as-at-31st-december-2013')\", \"('51', 'https://www.dmo.gov.ng/debt-profile/total-public-debt/51-public-debt-stock-as-at-30th-september-2013')\", \"('49', 'https://www.dmo.gov.ng/debt-profile/total-public-debt/49-public-debt-stock-as-at-30th-june-2013')\", \"('57', 'https://www.dmo.gov.ng/debt-profile/total-public-debt/57-total-public-debt-stock-as-at-31-march-2013')\", \"('53', 'https://www.dmo.gov.ng/debt-profile/total-public-debt/53-public-debt-stock-31-12-2012')\", \"('3310', 'https://www.dmo.gov.ng/news-and-events/circulars-releases/3310-press-release-on-the-release-of-june-30-2020-public-debt-data/file')\"]\n"
    }
   ],
   "source": [
    "print(file_addresses)"
   ]
  },
  {
   "cell_type": "code",
   "execution_count": 19,
   "metadata": {},
   "outputs": [],
   "source": [
    "import os\n",
    "import requests\n",
    "from time import time\n",
    "from multiprocessing.pool import ThreadPool"
   ]
  },
  {
   "cell_type": "code",
   "execution_count": 20,
   "metadata": {
    "tags": []
   },
   "outputs": [
    {
     "output_type": "stream",
     "name": "stdout",
     "text": "c:\\Users\\rotim\\OneDrive - bwedu\\Web Developmnet\\ngn-debt-profile\\scrapper\n"
    }
   ],
   "source": [
    "# https://stackoverflow.com/questions/918154/relative-paths-in-python\n",
    "fileDir = os.path.dirname(os.path.realpath('__file__'))\n",
    "print(fileDir)\n",
    "\n"
   ]
  },
  {
   "cell_type": "code",
   "execution_count": 21,
   "metadata": {},
   "outputs": [],
   "source": [
    "#https://likegeeks.com/downloading-files-using-python/\n",
    "def url_response(url):\n",
    "    fileName, url= url\n",
    "    r = requests.get(url, stream = True)\n",
    "    with open( fileName, 'wb') as f:\n",
    "        for ch in r:\n",
    "            f.write(ch)"
   ]
  },
  {
   "cell_type": "code",
   "execution_count": 73,
   "metadata": {
    "tags": []
   },
   "outputs": [
    {
     "output_type": "stream",
     "name": "stdout",
     "text": "c:\\Users\\rotim\\OneDrive - bwedu\\Web Developmnet\\ngn-debt-profile\\scrapper\n"
    }
   ],
   "source": []
  },
  {
   "source": [
    "for x in file_addresses:\n",
    "    url_response(x)"
   ],
   "cell_type": "code",
   "metadata": {},
   "execution_count": 22,
   "outputs": [
    {
     "output_type": "error",
     "ename": "ValueError",
     "evalue": "too many values to unpack (expected 2)",
     "traceback": [
      "\u001b[1;31m---------------------------------------------------------------------------\u001b[0m",
      "\u001b[1;31mValueError\u001b[0m                                Traceback (most recent call last)",
      "\u001b[1;32m<ipython-input-22-e490c33ac027>\u001b[0m in \u001b[0;36m<module>\u001b[1;34m\u001b[0m\n\u001b[0;32m      1\u001b[0m \u001b[1;32mfor\u001b[0m \u001b[0mx\u001b[0m \u001b[1;32min\u001b[0m \u001b[0mfile_addresses\u001b[0m\u001b[1;33m:\u001b[0m\u001b[1;33m\u001b[0m\u001b[1;33m\u001b[0m\u001b[0m\n\u001b[1;32m----> 2\u001b[1;33m     \u001b[0murl_response\u001b[0m\u001b[1;33m(\u001b[0m\u001b[0mx\u001b[0m\u001b[1;33m)\u001b[0m\u001b[1;33m\u001b[0m\u001b[1;33m\u001b[0m\u001b[0m\n\u001b[0m",
      "\u001b[1;32m<ipython-input-21-a35bacb20d3d>\u001b[0m in \u001b[0;36murl_response\u001b[1;34m(url)\u001b[0m\n\u001b[0;32m      1\u001b[0m \u001b[1;31m#https://likegeeks.com/downloading-files-using-python/\u001b[0m\u001b[1;33m\u001b[0m\u001b[1;33m\u001b[0m\u001b[1;33m\u001b[0m\u001b[0m\n\u001b[0;32m      2\u001b[0m \u001b[1;32mdef\u001b[0m \u001b[0murl_response\u001b[0m\u001b[1;33m(\u001b[0m\u001b[0murl\u001b[0m\u001b[1;33m)\u001b[0m\u001b[1;33m:\u001b[0m\u001b[1;33m\u001b[0m\u001b[1;33m\u001b[0m\u001b[0m\n\u001b[1;32m----> 3\u001b[1;33m     \u001b[0mfileName\u001b[0m\u001b[1;33m,\u001b[0m \u001b[0murl\u001b[0m\u001b[1;33m=\u001b[0m \u001b[0murl\u001b[0m\u001b[1;33m\u001b[0m\u001b[1;33m\u001b[0m\u001b[0m\n\u001b[0m\u001b[0;32m      4\u001b[0m     \u001b[0mr\u001b[0m \u001b[1;33m=\u001b[0m \u001b[0mrequests\u001b[0m\u001b[1;33m.\u001b[0m\u001b[0mget\u001b[0m\u001b[1;33m(\u001b[0m\u001b[0murl\u001b[0m\u001b[1;33m,\u001b[0m \u001b[0mstream\u001b[0m \u001b[1;33m=\u001b[0m \u001b[1;32mTrue\u001b[0m\u001b[1;33m)\u001b[0m\u001b[1;33m\u001b[0m\u001b[1;33m\u001b[0m\u001b[0m\n\u001b[0;32m      5\u001b[0m     \u001b[1;32mwith\u001b[0m \u001b[0mopen\u001b[0m\u001b[1;33m(\u001b[0m \u001b[0mfileName\u001b[0m\u001b[1;33m,\u001b[0m \u001b[1;34m'wb'\u001b[0m\u001b[1;33m)\u001b[0m \u001b[1;32mas\u001b[0m \u001b[0mf\u001b[0m\u001b[1;33m:\u001b[0m\u001b[1;33m\u001b[0m\u001b[1;33m\u001b[0m\u001b[0m\n",
      "\u001b[1;31mValueError\u001b[0m: too many values to unpack (expected 2)"
     ]
    }
   ]
  },
  {
   "cell_type": "code",
   "execution_count": 23,
   "metadata": {
    "tags": []
   },
   "outputs": [
    {
     "output_type": "error",
     "ename": "SyntaxError",
     "evalue": "invalid syntax (<ipython-input-23-34810a2a3129>, line 2)",
     "traceback": [
      "\u001b[1;36m  File \u001b[1;32m\"<ipython-input-23-34810a2a3129>\"\u001b[1;36m, line \u001b[1;32m2\u001b[0m\n\u001b[1;33m    new_list = [x, \", Event\"+1 for x in my_list]\u001b[0m\n\u001b[1;37m                                 ^\u001b[0m\n\u001b[1;31mSyntaxError\u001b[0m\u001b[1;31m:\u001b[0m invalid syntax\n"
     ]
    }
   ],
   "source": [
    "my_list=[1,2,3]\n",
    "new_list = [x, \", Event\"+1 for x in my_list]\n",
    "new_list"
   ]
  }
 ]
}